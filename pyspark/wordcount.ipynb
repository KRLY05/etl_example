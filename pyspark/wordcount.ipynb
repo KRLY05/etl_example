{
 "cells": [
  {
   "cell_type": "code",
   "execution_count": 1,
   "id": "champion-suffering",
   "metadata": {},
   "outputs": [],
   "source": [
    "import pyspark\n",
    "\n",
    "sc = pyspark.SparkContext(\"local[*]\")\n",
    "data = sc.textFile(\"./biographies.list\")\n",
    "lines = data.filter(lambda line: line[0:2] == \"BG\" and len(line) > 4)\n",
    "words = lines.flatMap(lambda line: line.split(\" \"))\n",
    "counts = words.map(lambda word: (word, 1)).reduceByKey(lambda a, b: a + b)\n",
    "\n",
    "counts.saveAsTextFile(\"./output\")"
   ]
  }
 ],
 "metadata": {
  "kernelspec": {
   "display_name": "Python 3",
   "language": "python",
   "name": "python3"
  },
  "language_info": {
   "codemirror_mode": {
    "name": "ipython",
    "version": 3
   },
   "file_extension": ".py",
   "mimetype": "text/x-python",
   "name": "python",
   "nbconvert_exporter": "python",
   "pygments_lexer": "ipython3",
   "version": "3.8.6"
  }
 },
 "nbformat": 4,
 "nbformat_minor": 5
}
